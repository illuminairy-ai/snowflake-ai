{
 "cells": [
  {
   "cell_type": "code",
   "execution_count": null,
   "metadata": {},
   "outputs": [],
   "source": [
    "import os\n",
    "from pathlib import Path\n",
    "from os.path import exists\n",
    "\n",
    "import logging\n",
    "import sys\n",
    "\n",
    "logger = logging.getLogger('snowflake_ai')\n",
    "logger.setLevel(logging.DEBUG)\n",
    "logger.addHandler(logging.StreamHandler(sys.stdout))\n",
    "\n",
    "\n",
    "from snowflake_ai.apps import NotebookApp\n",
    "from snowflake_ai.connect import DataFrameFactory\n",
    "from snowflake_ai.snowpandas import SnowEDA, SnowSetup\n",
    "\n",
    "\n",
    "home = Path.home()\n",
    "config_path = os.path.join(\n",
    "    home, os.path.dirname(\".snowflake_ai/conf/\")\n",
    ")\n",
    "\n",
    "print(f\"home: {home}\")\n",
    "if exists(config_path):\n",
    "    print(f\"config path: {os.path.abspath(config_path)}\")\n",
    "\n",
    "\n",
    "app = NotebookApp(\"group_def.app1\")\n",
    "connect = app.get_default_snow_connect()\n",
    "\n",
    "tbl_nm = 'SNOWFLAKE_SAMPLE_DATA.TPCH_SF1.CUSTOMER'\n",
    "sdf = DataFrameFactory.create_df(tbl_nm, connect)\n",
    "\n",
    "sdf.show(5)"
   ]
  }
 ],
 "metadata": {
  "kernelspec": {
   "display_name": "py38",
   "language": "python",
   "name": "python3"
  },
  "language_info": {
   "name": "python",
   "version": "3.8.16"
  },
  "orig_nbformat": 4
 },
 "nbformat": 4,
 "nbformat_minor": 2
}
