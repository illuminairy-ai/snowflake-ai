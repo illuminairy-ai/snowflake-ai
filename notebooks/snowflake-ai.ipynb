{
 "cells": [
  {
   "cell_type": "code",
   "execution_count": 1,
   "metadata": {},
   "outputs": [
    {
     "name": "stdout",
     "output_type": "stream",
     "text": [
      "home: /home/tonyl\n",
      "config path: /home/tonyl/.snowflake_ai/conf\n",
      "AppConfig._load_toml_files(): Directory /home/tonyl/work/ecl/snowflake-ai/notebooks/.snowflake_ai/conf doesn't exist!\n"
     ]
    },
    {
     "name": "stderr",
     "output_type": "stream",
     "text": [
      "2023-08-21 12:53:50.119 WARNING snowflake_ai.common.app_config: AppConfig._load_toml_files(): Directory /home/tonyl/work/ecl/snowflake-ai/notebooks/.snowflake_ai/conf doesn't exist!\n"
     ]
    },
    {
     "name": "stdout",
     "output_type": "stream",
     "text": [
      "DataConnect._load_toml_files(): Loaded configuration from path [/home/tonyl/.snowflake_ai/conf]; Detailed App_config [{'apps': {'type': 'streamlit', 'root_path': '', 'group_def': {'name': 'AI Application Default Group', 'version': '0.3.1', 'app1': {'app_short_name': 'group0_app1', 'type': 'notebook', 'name': 'Group 0 App 1', 'version': '0.4.0', 'domain_env': 'pov', 'app_path': 'apps/group0/app1/', 'script_home': 'apps/group0/app1/'}}}, 'base_apps': {'group_def': {'app1': {'app_connects': ['oauth_connects.client_creds_group0_app1', 'data_connects.snflk_oauth_cc_group0_app1'], 'ml_ops': ['pipeline_flows.group0_app1'], 'data_setups': ['group_def.app1'], 'ml_pipelines': ['group_def.app1']}}}, 'streamlit_apps': {'group_def': {'app1': {'global': {'dataFrameSerialization': 'arrow', 'level': 'info'}, 'server': {'headless': True, 'port': 8501, 'enableCORS': False, 'enableStaticServing': True}, 'theme': {'primaryColor': '#1D8CCC', 'backgroundColor': '#FFFFFF', 'secondaryBackgroundColor': '#F0F2F6', 'textColor': '#262730', 'font': 'sans serif'}}}}, 'app_connects': {'oauth_connects': {'init_list': ['auth_code_group0_app1'], 'auth_code_group0_app1': {'auth_type': 'oauth', 'type': 'auth_code', 'content_type': 'application/x-www-form-urlencoded', 'auth_request_url': 'https://login.microsoftonline.com/{tenant_id}/oauth2/v2.0/authorize', 'tenant_id': 'c1eb5112-7946-4c9d-bc57-40040cfe3a91', 'client_id': '51f75035-3446-4a8f-9dfc-6c340800b911', 'redirect_uri': 'http://localhost:8501/login', 'scope': 'https://snowflake/7c80f808-7f52-47d6-9fa6-768e68f18fc4/session:scope:ent_it_aiml_dev_diku_fr offline_access', 'auth_response_type': 'code', 'code_challenge_method': 'S256', 'auth_response_mode': 'query', 'auth_response_fields': ['code', 'state'], 'auth_response_errors': ['error', 'error_description'], 'grant_token_request_url': 'https://login.microsoftonline.com/{tenant-id}/oauth2/v2.0/token', 'grant_type': 'authorization_code', 'client_secret_env': 'SNOWFLAKE_DEFAULT_APP_SECRET', 'grant_token_response_fields': ['access_token', 'token_type', 'expires_in', 'scope', 'referesh_token', 'id_token'], 'verify_signature': False}, 'device_code_group0_app1': {'auth_type': 'oauth', 'type': 'device_code', 'auth_request_url': 'https://login.microsoftonline.com/{tenant_id}/oauth2/v2.0/devicecode', 'tenant_id': 'c1eb5112-7946-4c9d-bc57-40040cfe3a91', 'content_type': 'application/x-www-form-urlencoded', 'client_id': '51f75035-3446-4a8f-9dfc-6c340800b911', 'scope': 'https://snowflake/7c80f808-7f52-47d6-9fa6-768e68f18fc4/session:scope:ent_it_aiml_dev_diku_fr offline_access', 'auth_response_fields': ['device_code', 'user_code', 'verification_uri', 'message'], 'grant_token_request_url': 'https://login.microsoftonline.com/{tenant-id}/oauth2/v2.0/token', 'grant_type': 'urn:ietf:params:oauth:grant-type:device_code'}, 'client_creds_group0_app1': {'auth_type': 'oauth', 'type': 'client_credentials', 'content_type': 'application/x-www-form-urlencoded', 'grant_token_request_url': 'https://login.microsoftonline.com/{tenant-id}/oauth2/v2.0/token', 'tenant_id': 'c1eb5112-7946-4c9d-bc57-40040cfe3a91', 'client_id': '51f75035-3446-4a8f-9dfc-6c340800b911', 'client_secret_env': 'SNOWFLAKE_DEFAULT_APP_SECRET', 'scope': 'https://snowflake/7c80f808-7f52-47d6-9fa6-768e68f18fc4/.default', 'grant_response_fields': ['access_token', 'token_type', 'expires_in'], 'grant_type': 'client_credentials'}}, 'data_connects': {'init_list': ['snflk_oauth_group0_app1'], 'snflk_oauth_group0_app1': {'type': 'snowflake', 'name': 'snowflake oauth', 'auth_type': 'oauth', 'oauth_connect': 'oauth_connects.device_code_group0_app1', 'account': 'gl57635-ecolab', 'region': '', 'user': '', 'database': 'ent_it_aiml_dev_wrks_db', 'schema': 'insight_gsc_pov', 'warehouse': 'ent_it_aiml_dev_svc_analytics_gsc_wh', 'role': 'ent_it_aiml_dev_diku_fr'}, 'snflk_svc_group0_app1': {'type': 'snowflake', 'name': 'snowflake default', 'auth_type': 'keypair', 'account': 'gl57635-ecolab', 'region': 'east-us-2.azure', 'user': 'tony.liu@ecolab.com', 'password_env': 'SNOWSQL_PWD', 'role': 'ENT_IT_AIML_DEV_DSCT_GSC_FR', 'warehouse': 'ent_it_aiml_dev_svc_analytics_gsc_Wh', 'database': 'ent_it_aiml_dev_wrks_db', 'schema': 'insight_gsc_pov', 'private_key_phrase_env': 'SNOWFLAKE_USER_PRIVATE_KEY_PASSPHRASE', 'private_key_path_env': 'SNOWFLAKE_USER_PRIVATE_KEY_PATH'}, 'snflk_app_group0_app1': {'type': 'snowflake', 'name': 'snowflake interactive', 'auth_type': 'externalbrowser', 'account': 'gl57635-ecolab', 'region': '', 'user': 'tony.liu@ecolab.com', 'role': 'ent_it_aiml_dev_ops_fr', 'warehouse': 'ent_it_aiml_dev_svc_analytics_Wh', 'database': 'ent_it_aiml_dev_wrks_db', 'schema': 'ext_sales_pov_admin'}, 'snflk_oauth_st_group0_app1': {'type': 'snowflake', 'name': 'snowflake oauth', 'auth_type': 'oauth', 'oauth_connect': 'oauth_connects.auth_code_group0_app1', 'account': 'gl57635-ecolab', 'region': '', 'user': '', 'database': 'ent_it_aiml_dev_wrks_db', 'schema': 'insight_gsc_pov', 'warehouse': 'ent_it_aiml_dev_svc_analytics_gsc_wh', 'role': 'ent_it_aiml_dev_diku_fr'}, 'snflk_oauth_cc_group0_app1': {'type': 'snowflake', 'name': 'snowflake oauth', 'auth_type': 'oauth', 'oauth_connect': 'oauth_connects.client_creds_group0_app1', 'account': 'gl57635-ecolab', 'region': '', 'user': 'tony.liu@ecolab.com', 'database': 'ent_it_aiml_dev_wrks_db', 'schema': 'insight_gsc_pov', 'warehouse': 'ent_it_aiml_dev_svc_analytics_gsc_wh', 'role': 'ent_it_aiml_dev_dsct_diku_fr'}, 'file_def': {'type': 'file', 'name': 'default local csv', 'format': 'csv', 'storage_type': 'local', 'dir_path': '../../', 'file_name': ''}}}, 'ml_ops': {'pipeline_flows': {'group0_app1': {'type': 'snowflake', 'data_connect': 'data_connects.snflk_oauth_cc_group0_app1', 'model_registry': 'model_registries.group0_app1', 'feature_store': 'feature_stores.group0_app1', 'execution_mode': 'sequential', 'ml_pipelines': [], 'data_setups': []}}, 'model_registries': {'group0_app1': {'type': 'snowflake', 'data_connect': 'data_connects.snflk_oauth_cc_group0_app1', 'registry_table': ''}}, 'feature_stores': {'group0_app1': {'type': 'snowflake', 'data_connect': 'data_connects.snflk_oauth_cc_group0_app1'}}}, 'data_setups': {'group_def': {'app1': {'type': 'snowflake', 'domain_env': 'pov', 'data_connect': 'data_connects.snflk_oauth_group0_app1', 'script': 'app_setup.py', 'class': '', 'init': '', 'clean_up': ''}}}, 'ml_pipelines': {'group_def': {'app1': {'type': 'default', 'script': '', 'class': '', 'run': '', 'step_tasks': []}}}}].\n"
     ]
    },
    {
     "name": "stderr",
     "output_type": "stream",
     "text": [
      "2023-08-21 12:53:50.141 INFO    snowflake_ai.common.app_config: DataConnect._load_toml_files(): Loaded configuration from path [/home/tonyl/.snowflake_ai/conf]; Detailed App_config [{'apps': {'type': 'streamlit', 'root_path': '', 'group_def': {'name': 'AI Application Default Group', 'version': '0.3.1', 'app1': {'app_short_name': 'group0_app1', 'type': 'notebook', 'name': 'Group 0 App 1', 'version': '0.4.0', 'domain_env': 'pov', 'app_path': 'apps/group0/app1/', 'script_home': 'apps/group0/app1/'}}}, 'base_apps': {'group_def': {'app1': {'app_connects': ['oauth_connects.client_creds_group0_app1', 'data_connects.snflk_oauth_cc_group0_app1'], 'ml_ops': ['pipeline_flows.group0_app1'], 'data_setups': ['group_def.app1'], 'ml_pipelines': ['group_def.app1']}}}, 'streamlit_apps': {'group_def': {'app1': {'global': {'dataFrameSerialization': 'arrow', 'level': 'info'}, 'server': {'headless': True, 'port': 8501, 'enableCORS': False, 'enableStaticServing': True}, 'theme': {'primaryColor': '#1D8CCC', 'backgroundColor': '#FFFFFF', 'secondaryBackgroundColor': '#F0F2F6', 'textColor': '#262730', 'font': 'sans serif'}}}}, 'app_connects': {'oauth_connects': {'init_list': ['auth_code_group0_app1'], 'auth_code_group0_app1': {'auth_type': 'oauth', 'type': 'auth_code', 'content_type': 'application/x-www-form-urlencoded', 'auth_request_url': 'https://login.microsoftonline.com/{tenant_id}/oauth2/v2.0/authorize', 'tenant_id': 'c1eb5112-7946-4c9d-bc57-40040cfe3a91', 'client_id': '51f75035-3446-4a8f-9dfc-6c340800b911', 'redirect_uri': 'http://localhost:8501/login', 'scope': 'https://snowflake/7c80f808-7f52-47d6-9fa6-768e68f18fc4/session:scope:ent_it_aiml_dev_diku_fr offline_access', 'auth_response_type': 'code', 'code_challenge_method': 'S256', 'auth_response_mode': 'query', 'auth_response_fields': ['code', 'state'], 'auth_response_errors': ['error', 'error_description'], 'grant_token_request_url': 'https://login.microsoftonline.com/{tenant-id}/oauth2/v2.0/token', 'grant_type': 'authorization_code', 'client_secret_env': 'SNOWFLAKE_DEFAULT_APP_SECRET', 'grant_token_response_fields': ['access_token', 'token_type', 'expires_in', 'scope', 'referesh_token', 'id_token'], 'verify_signature': False}, 'device_code_group0_app1': {'auth_type': 'oauth', 'type': 'device_code', 'auth_request_url': 'https://login.microsoftonline.com/{tenant_id}/oauth2/v2.0/devicecode', 'tenant_id': 'c1eb5112-7946-4c9d-bc57-40040cfe3a91', 'content_type': 'application/x-www-form-urlencoded', 'client_id': '51f75035-3446-4a8f-9dfc-6c340800b911', 'scope': 'https://snowflake/7c80f808-7f52-47d6-9fa6-768e68f18fc4/session:scope:ent_it_aiml_dev_diku_fr offline_access', 'auth_response_fields': ['device_code', 'user_code', 'verification_uri', 'message'], 'grant_token_request_url': 'https://login.microsoftonline.com/{tenant-id}/oauth2/v2.0/token', 'grant_type': 'urn:ietf:params:oauth:grant-type:device_code'}, 'client_creds_group0_app1': {'auth_type': 'oauth', 'type': 'client_credentials', 'content_type': 'application/x-www-form-urlencoded', 'grant_token_request_url': 'https://login.microsoftonline.com/{tenant-id}/oauth2/v2.0/token', 'tenant_id': 'c1eb5112-7946-4c9d-bc57-40040cfe3a91', 'client_id': '51f75035-3446-4a8f-9dfc-6c340800b911', 'client_secret_env': 'SNOWFLAKE_DEFAULT_APP_SECRET', 'scope': 'https://snowflake/7c80f808-7f52-47d6-9fa6-768e68f18fc4/.default', 'grant_response_fields': ['access_token', 'token_type', 'expires_in'], 'grant_type': 'client_credentials'}}, 'data_connects': {'init_list': ['snflk_oauth_group0_app1'], 'snflk_oauth_group0_app1': {'type': 'snowflake', 'name': 'snowflake oauth', 'auth_type': 'oauth', 'oauth_connect': 'oauth_connects.device_code_group0_app1', 'account': 'gl57635-ecolab', 'region': '', 'user': '', 'database': 'ent_it_aiml_dev_wrks_db', 'schema': 'insight_gsc_pov', 'warehouse': 'ent_it_aiml_dev_svc_analytics_gsc_wh', 'role': 'ent_it_aiml_dev_diku_fr'}, 'snflk_svc_group0_app1': {'type': 'snowflake', 'name': 'snowflake default', 'auth_type': 'keypair', 'account': 'gl57635-ecolab', 'region': 'east-us-2.azure', 'user': 'tony.liu@ecolab.com', 'password_env': 'SNOWSQL_PWD', 'role': 'ENT_IT_AIML_DEV_DSCT_GSC_FR', 'warehouse': 'ent_it_aiml_dev_svc_analytics_gsc_Wh', 'database': 'ent_it_aiml_dev_wrks_db', 'schema': 'insight_gsc_pov', 'private_key_phrase_env': 'SNOWFLAKE_USER_PRIVATE_KEY_PASSPHRASE', 'private_key_path_env': 'SNOWFLAKE_USER_PRIVATE_KEY_PATH'}, 'snflk_app_group0_app1': {'type': 'snowflake', 'name': 'snowflake interactive', 'auth_type': 'externalbrowser', 'account': 'gl57635-ecolab', 'region': '', 'user': 'tony.liu@ecolab.com', 'role': 'ent_it_aiml_dev_ops_fr', 'warehouse': 'ent_it_aiml_dev_svc_analytics_Wh', 'database': 'ent_it_aiml_dev_wrks_db', 'schema': 'ext_sales_pov_admin'}, 'snflk_oauth_st_group0_app1': {'type': 'snowflake', 'name': 'snowflake oauth', 'auth_type': 'oauth', 'oauth_connect': 'oauth_connects.auth_code_group0_app1', 'account': 'gl57635-ecolab', 'region': '', 'user': '', 'database': 'ent_it_aiml_dev_wrks_db', 'schema': 'insight_gsc_pov', 'warehouse': 'ent_it_aiml_dev_svc_analytics_gsc_wh', 'role': 'ent_it_aiml_dev_diku_fr'}, 'snflk_oauth_cc_group0_app1': {'type': 'snowflake', 'name': 'snowflake oauth', 'auth_type': 'oauth', 'oauth_connect': 'oauth_connects.client_creds_group0_app1', 'account': 'gl57635-ecolab', 'region': '', 'user': 'tony.liu@ecolab.com', 'database': 'ent_it_aiml_dev_wrks_db', 'schema': 'insight_gsc_pov', 'warehouse': 'ent_it_aiml_dev_svc_analytics_gsc_wh', 'role': 'ent_it_aiml_dev_dsct_diku_fr'}, 'file_def': {'type': 'file', 'name': 'default local csv', 'format': 'csv', 'storage_type': 'local', 'dir_path': '../../', 'file_name': ''}}}, 'ml_ops': {'pipeline_flows': {'group0_app1': {'type': 'snowflake', 'data_connect': 'data_connects.snflk_oauth_cc_group0_app1', 'model_registry': 'model_registries.group0_app1', 'feature_store': 'feature_stores.group0_app1', 'execution_mode': 'sequential', 'ml_pipelines': [], 'data_setups': []}}, 'model_registries': {'group0_app1': {'type': 'snowflake', 'data_connect': 'data_connects.snflk_oauth_cc_group0_app1', 'registry_table': ''}}, 'feature_stores': {'group0_app1': {'type': 'snowflake', 'data_connect': 'data_connects.snflk_oauth_cc_group0_app1'}}}, 'data_setups': {'group_def': {'app1': {'type': 'snowflake', 'domain_env': 'pov', 'data_connect': 'data_connects.snflk_oauth_group0_app1', 'script': 'app_setup.py', 'class': '', 'init': '', 'clean_up': ''}}}, 'ml_pipelines': {'group_def': {'app1': {'type': 'default', 'script': '', 'class': '', 'run': '', 'step_tasks': []}}}}].\n"
     ]
    },
    {
     "name": "stdout",
     "output_type": "stream",
     "text": [
      "AppConfig.get_group_item_config(): Split key - GroupKey [group_def]; ItemKey[app_1].\n"
     ]
    },
    {
     "name": "stderr",
     "output_type": "stream",
     "text": [
      "2023-08-21 12:53:50.144 INFO    snowflake_ai.common.app_config: AppConfig.get_group_item_config(): Split key - GroupKey [group_def]; ItemKey[app_1].\n"
     ]
    },
    {
     "name": "stdout",
     "output_type": "stream",
     "text": [
      "AppConfig.get_group_item_config(): Root_key[apps]; GroupKey [group_def]; ItemConfigs [{'name': 'AI Application Default Group', 'version': '0.3.1', 'app1': {'app_short_name': 'group0_app1', 'type': 'notebook', 'name': 'Group 0 App 1', 'version': '0.4.0', 'domain_env': 'pov', 'app_path': 'apps/group0/app1/', 'script_home': 'apps/group0/app1/'}}]; ItemKey[app_1]; Config => {}.\n"
     ]
    },
    {
     "name": "stderr",
     "output_type": "stream",
     "text": [
      "2023-08-21 12:53:50.147 INFO    snowflake_ai.common.app_config: AppConfig.get_group_item_config(): Root_key[apps]; GroupKey [group_def]; ItemConfigs [{'name': 'AI Application Default Group', 'version': '0.3.1', 'app1': {'app_short_name': 'group0_app1', 'type': 'notebook', 'name': 'Group 0 App 1', 'version': '0.4.0', 'domain_env': 'pov', 'app_path': 'apps/group0/app1/', 'script_home': 'apps/group0/app1/'}}]; ItemKey[app_1]; Config => {}.\n"
     ]
    },
    {
     "name": "stdout",
     "output_type": "stream",
     "text": [
      "AppConfig.get_group_item_config(): Loaded group item configration with key [group_def.app_1]; Config => {}.\n"
     ]
    },
    {
     "name": "stderr",
     "output_type": "stream",
     "text": [
      "2023-08-21 12:53:50.150 INFO    snowflake_ai.common.app_config: AppConfig.get_group_item_config(): Loaded group item configration with key [group_def.app_1]; Config => {}.\n"
     ]
    },
    {
     "name": "stdout",
     "output_type": "stream",
     "text": [
      "AppConfig.get_group_item_config(): Split key - GroupKey [group_def]; ItemKey[app_1].\n"
     ]
    },
    {
     "name": "stderr",
     "output_type": "stream",
     "text": [
      "2023-08-21 12:53:50.152 INFO    snowflake_ai.common.app_config: AppConfig.get_group_item_config(): Split key - GroupKey [group_def]; ItemKey[app_1].\n"
     ]
    },
    {
     "name": "stdout",
     "output_type": "stream",
     "text": [
      "AppConfig.get_group_item_config(): Root_key[base_apps]; GroupKey [group_def]; ItemConfigs [{'app1': {'app_connects': ['oauth_connects.client_creds_group0_app1', 'data_connects.snflk_oauth_cc_group0_app1'], 'ml_ops': ['pipeline_flows.group0_app1'], 'data_setups': ['group_def.app1'], 'ml_pipelines': ['group_def.app1']}}]; ItemKey[app_1]; Config => {}.\n"
     ]
    },
    {
     "name": "stderr",
     "output_type": "stream",
     "text": [
      "2023-08-21 12:53:50.156 INFO    snowflake_ai.common.app_config: AppConfig.get_group_item_config(): Root_key[base_apps]; GroupKey [group_def]; ItemConfigs [{'app1': {'app_connects': ['oauth_connects.client_creds_group0_app1', 'data_connects.snflk_oauth_cc_group0_app1'], 'ml_ops': ['pipeline_flows.group0_app1'], 'data_setups': ['group_def.app1'], 'ml_pipelines': ['group_def.app1']}}]; ItemKey[app_1]; Config => {}.\n"
     ]
    },
    {
     "name": "stdout",
     "output_type": "stream",
     "text": [
      "AppConfig.get_group_item_config(): Loaded group item configration with key [group_def.app_1]; Config => {}.\n"
     ]
    },
    {
     "name": "stderr",
     "output_type": "stream",
     "text": [
      "2023-08-21 12:53:50.159 INFO    snowflake_ai.common.app_config: AppConfig.get_group_item_config(): Loaded group item configration with key [group_def.app_1]; Config => {}.\n"
     ]
    },
    {
     "name": "stdout",
     "output_type": "stream",
     "text": [
      "AppConfig.init(): base_configs => {}.\n"
     ]
    },
    {
     "name": "stderr",
     "output_type": "stream",
     "text": [
      "2023-08-21 12:53:50.162 INFO    snowflake_ai.common.app_config: AppConfig.init(): base_configs => {}.\n"
     ]
    },
    {
     "name": "stdout",
     "output_type": "stream",
     "text": [
      "AppConfig.init(): App_key [group_def.app_1]; App_connect_ref [[]]; Data_setup_ref [[]]\n"
     ]
    },
    {
     "name": "stderr",
     "output_type": "stream",
     "text": [
      "2023-08-21 12:53:50.164 INFO    snowflake_ai.common.app_config: AppConfig.init(): App_key [group_def.app_1]; App_connect_ref [[]]; Data_setup_ref [[]]\n"
     ]
    },
    {
     "name": "stdout",
     "output_type": "stream",
     "text": [
      "BaseApp.init(): AppConfig - AppKey [group_def.app_1]; Version [None].\n"
     ]
    },
    {
     "name": "stderr",
     "output_type": "stream",
     "text": [
      "2023-08-21 12:53:50.171 INFO    snowflake_ai.apps.notebook_app: BaseApp.init(): AppConfig - AppKey [group_def.app_1]; Version [None].\n"
     ]
    },
    {
     "name": "stdout",
     "output_type": "stream",
     "text": [
      "ConnectionManager.create_app_connects(): App_connect_refs => []\n"
     ]
    },
    {
     "name": "stderr",
     "output_type": "stream",
     "text": [
      "2023-08-21 12:53:50.177 INFO    snowflake_ai.connect.connect_manager: ConnectionManager.create_app_connects(): App_connect_refs => []\n"
     ]
    },
    {
     "name": "stdout",
     "output_type": "stream",
     "text": [
      "ConnectManager.create_default_snow_connect(): App_key[group_def.app_1]; List_of_connect[{'group_def.app_1': []}].\n"
     ]
    },
    {
     "name": "stderr",
     "output_type": "stream",
     "text": [
      "2023-08-21 12:53:50.180 INFO    snowflake_ai.connect.connect_manager: ConnectManager.create_default_snow_connect(): App_key[group_def.app_1]; List_of_connect[{'group_def.app_1': []}].\n"
     ]
    },
    {
     "name": "stdout",
     "output_type": "stream",
     "text": [
      "AppConnect.init(): Connect group [group_def]; Connect key []; Connect Config Params => {}\n"
     ]
    },
    {
     "name": "stderr",
     "output_type": "stream",
     "text": [
      "2023-08-21 12:53:50.183 INFO    snowflake_ai.common.app_connect: AppConnect.init(): Connect group [group_def]; Connect key []; Connect Config Params => {}\n"
     ]
    },
    {
     "name": "stdout",
     "output_type": "stream",
     "text": [
      "SnowConnect.init(): ConnectType [];ConnectGroup [group_def]; ConnectName [app_1]\n"
     ]
    },
    {
     "name": "stderr",
     "output_type": "stream",
     "text": [
      "2023-08-21 12:53:50.185 ERROR   snowflake_ai.connect.snow_connect: SnowConnect.init(): ConnectType [];ConnectGroup [group_def]; ConnectName [app_1]\n"
     ]
    },
    {
     "ename": "ValueError",
     "evalue": "SnowConnect.init(): SnowConnect configuration Error!",
     "output_type": "error",
     "traceback": [
      "\u001b[0;31m---------------------------------------------------------------------------\u001b[0m",
      "\u001b[0;31mValueError\u001b[0m                                Traceback (most recent call last)",
      "Cell \u001b[0;32mIn[1], line 20\u001b[0m\n\u001b[1;32m     16\u001b[0m \u001b[39mif\u001b[39;00m exists(config_path):\n\u001b[1;32m     17\u001b[0m     \u001b[39mprint\u001b[39m(\u001b[39mf\u001b[39m\u001b[39m\"\u001b[39m\u001b[39mconfig path: \u001b[39m\u001b[39m{\u001b[39;00mos\u001b[39m.\u001b[39mpath\u001b[39m.\u001b[39mabspath(config_path)\u001b[39m}\u001b[39;00m\u001b[39m\"\u001b[39m)\n\u001b[0;32m---> 20\u001b[0m app \u001b[39m=\u001b[39m NotebookApp(\u001b[39m\"\u001b[39;49m\u001b[39mgroup_def.app_1\u001b[39;49m\u001b[39m\"\u001b[39;49m)\n\u001b[1;32m     21\u001b[0m connect \u001b[39m=\u001b[39m app\u001b[39m.\u001b[39mget_default_snow_connect()\n\u001b[1;32m     23\u001b[0m tbl_nm \u001b[39m=\u001b[39m \u001b[39m'\u001b[39m\u001b[39mSNOWFLAKE_SAMPLE_DATA.TPCH_SF1.CUSTOMER\u001b[39m\u001b[39m'\u001b[39m\n",
      "File \u001b[0;32m~/opt/miniconda3/envs/py38/lib/python3.8/site-packages/snowflake_ai/apps/notebook_app.py:76\u001b[0m, in \u001b[0;36mNotebookApp.__init__\u001b[0;34m(self, app_key, config_dir, config_file)\u001b[0m\n\u001b[1;32m     60\u001b[0m \u001b[39mdef\u001b[39;00m \u001b[39m__init__\u001b[39m(\n\u001b[1;32m     61\u001b[0m     \u001b[39mself\u001b[39m,\n\u001b[1;32m     62\u001b[0m     app_key : \u001b[39mstr\u001b[39m,\n\u001b[1;32m     63\u001b[0m     config_dir : Optional[Union[\u001b[39mstr\u001b[39m, \u001b[39mNone\u001b[39;00m]] \u001b[39m=\u001b[39m \u001b[39mNone\u001b[39;00m, \n\u001b[1;32m     64\u001b[0m     config_file : Optional[Union[\u001b[39mstr\u001b[39m, \u001b[39mNone\u001b[39;00m]] \u001b[39m=\u001b[39m \u001b[39mNone\u001b[39;00m\n\u001b[1;32m     65\u001b[0m ):\n\u001b[1;32m     66\u001b[0m \u001b[39m    \u001b[39m\u001b[39m\"\"\"\u001b[39;00m\n\u001b[1;32m     67\u001b[0m \u001b[39m    Creat app specific AppConfig object.\u001b[39;00m\n\u001b[1;32m     68\u001b[0m \n\u001b[0;32m   (...)\u001b[0m\n\u001b[1;32m     74\u001b[0m \u001b[39m        config_file: file name string for custom config load\u001b[39;00m\n\u001b[1;32m     75\u001b[0m \u001b[39m    \"\"\"\u001b[39;00m\n\u001b[0;32m---> 76\u001b[0m     \u001b[39msuper\u001b[39;49m()\u001b[39m.\u001b[39;49m\u001b[39m__init__\u001b[39;49m(app_key, config_dir, config_file)\n\u001b[1;32m     77\u001b[0m     \u001b[39mself\u001b[39m\u001b[39m.\u001b[39mlogger \u001b[39m=\u001b[39m \u001b[39mself\u001b[39m\u001b[39m.\u001b[39m_logger\n\u001b[1;32m     78\u001b[0m     \u001b[39mif\u001b[39;00m  AppType\u001b[39m.\u001b[39mNotebook\u001b[39m.\u001b[39mvalue \u001b[39m!=\u001b[39m \u001b[39mself\u001b[39m\u001b[39m.\u001b[39mtype:\n",
      "File \u001b[0;32m~/opt/miniconda3/envs/py38/lib/python3.8/site-packages/snowflake_ai/apps/base_app.py:124\u001b[0m, in \u001b[0;36mBaseApp.__init__\u001b[0;34m(self, app_key, config_dir, config_file)\u001b[0m\n\u001b[1;32m    119\u001b[0m     \u001b[39mraise\u001b[39;00m \u001b[39mTypeError\u001b[39;00m(\n\u001b[1;32m    120\u001b[0m         \u001b[39m\"\u001b[39m\u001b[39mBase.init(): Application type configuration Error!\u001b[39m\u001b[39m\"\u001b[39m\n\u001b[1;32m    121\u001b[0m     )\n\u001b[1;32m    123\u001b[0m \u001b[39m# get default snowflake connection\u001b[39;00m\n\u001b[0;32m--> 124\u001b[0m \u001b[39mself\u001b[39m\u001b[39m.\u001b[39msnow_connect \u001b[39m=\u001b[39m ConnectManager\u001b[39m.\u001b[39;49mcreate_default_snow_connect(\n\u001b[1;32m    125\u001b[0m         \u001b[39mself\u001b[39;49m\u001b[39m.\u001b[39;49mappconf)\n\u001b[1;32m    126\u001b[0m \u001b[39mself\u001b[39m\u001b[39m.\u001b[39mdefault_setup \u001b[39m=\u001b[39m SetupManager\u001b[39m.\u001b[39mcreate_default_snow_setup(\n\u001b[1;32m    127\u001b[0m         \u001b[39mself\u001b[39m, \u001b[39mself\u001b[39m\u001b[39m.\u001b[39msnow_connect)\n\u001b[1;32m    128\u001b[0m \u001b[39mself\u001b[39m\u001b[39m.\u001b[39msetup_module \u001b[39m=\u001b[39m \u001b[39mself\u001b[39m\u001b[39m.\u001b[39mdefault_setup\u001b[39m.\u001b[39mload_module()\n",
      "File \u001b[0;32m~/opt/miniconda3/envs/py38/lib/python3.8/site-packages/snowflake_ai/connect/connect_manager.py:95\u001b[0m, in \u001b[0;36mConnectManager.create_default_snow_connect\u001b[0;34m(cls, app_config)\u001b[0m\n\u001b[1;32m     93\u001b[0m     \u001b[39mif\u001b[39;00m \u001b[39misinstance\u001b[39m(c, SnowConnect):\n\u001b[1;32m     94\u001b[0m         \u001b[39mreturn\u001b[39;00m c\n\u001b[0;32m---> 95\u001b[0m \u001b[39mreturn\u001b[39;00m SnowConnect(app_config\u001b[39m.\u001b[39;49mapp_key, app_config)\n",
      "File \u001b[0;32m~/opt/miniconda3/envs/py38/lib/python3.8/site-packages/snowflake_ai/connect/snow_connect.py:81\u001b[0m, in \u001b[0;36mSnowConnect.__init__\u001b[0;34m(self, connect_key, app_config)\u001b[0m\n\u001b[1;32m     74\u001b[0m \u001b[39mif\u001b[39;00m \u001b[39mnot\u001b[39;00m (\u001b[39mself\u001b[39m\u001b[39m.\u001b[39mconnect_group \u001b[39m==\u001b[39m DataConnect\u001b[39m.\u001b[39mK_DATA_CONN \u001b[39mand\u001b[39;00m \\\n\u001b[1;32m     75\u001b[0m         \u001b[39mself\u001b[39m\u001b[39m.\u001b[39mconnect_params):\n\u001b[1;32m     76\u001b[0m     \u001b[39mself\u001b[39m\u001b[39m.\u001b[39mlogger\u001b[39m.\u001b[39merror(\n\u001b[1;32m     77\u001b[0m         \u001b[39mf\u001b[39m\u001b[39m\"\u001b[39m\u001b[39mSnowConnect.init(): ConnectType [\u001b[39m\u001b[39m{\u001b[39;00m\u001b[39mself\u001b[39m\u001b[39m.\u001b[39mconnect_type\u001b[39m}\u001b[39;00m\u001b[39m];\u001b[39m\u001b[39m\"\u001b[39m\\\n\u001b[1;32m     78\u001b[0m         \u001b[39mf\u001b[39m\u001b[39m\"\u001b[39m\u001b[39mConnectGroup [\u001b[39m\u001b[39m{\u001b[39;00m\u001b[39mself\u001b[39m\u001b[39m.\u001b[39mconnect_group\u001b[39m}\u001b[39;00m\u001b[39m]; ConnectName [\u001b[39m\u001b[39m\"\u001b[39m\\\n\u001b[1;32m     79\u001b[0m         \u001b[39mf\u001b[39m\u001b[39m\"\u001b[39m\u001b[39m{\u001b[39;00m\u001b[39mself\u001b[39m\u001b[39m.\u001b[39mconnect_name\u001b[39m}\u001b[39;00m\u001b[39m]\u001b[39m\u001b[39m\"\u001b[39m\n\u001b[1;32m     80\u001b[0m     )\n\u001b[0;32m---> 81\u001b[0m     \u001b[39mraise\u001b[39;00m \u001b[39mValueError\u001b[39;00m(\n\u001b[1;32m     82\u001b[0m         \u001b[39m\"\u001b[39m\u001b[39mSnowConnect.init(): SnowConnect configuration Error!\u001b[39m\u001b[39m\"\u001b[39m\n\u001b[1;32m     83\u001b[0m     )\n\u001b[1;32m     84\u001b[0m \u001b[39mif\u001b[39;00m (\u001b[39mnot\u001b[39;00m \u001b[39mself\u001b[39m\u001b[39m.\u001b[39mconnect_type) \u001b[39mor\u001b[39;00m (\n\u001b[1;32m     85\u001b[0m         \u001b[39mself\u001b[39m\u001b[39m.\u001b[39mconnect_type \u001b[39m!=\u001b[39m AppConfig\u001b[39m.\u001b[39mT_CONN_SNFLK):\n\u001b[1;32m     86\u001b[0m     \u001b[39mraise\u001b[39;00m \u001b[39mValueError\u001b[39;00m(\n\u001b[1;32m     87\u001b[0m         \u001b[39mf\u001b[39m\u001b[39m\"\u001b[39m\u001b[39mSnowConnect.init(): Error - Type [\u001b[39m\u001b[39m{\u001b[39;00m\u001b[39mself\u001b[39m\u001b[39m.\u001b[39mconnect_type\u001b[39m}\u001b[39;00m\u001b[39m]!\u001b[39m\u001b[39m\"\u001b[39m\n\u001b[1;32m     88\u001b[0m     )\n",
      "\u001b[0;31mValueError\u001b[0m: SnowConnect.init(): SnowConnect configuration Error!"
     ]
    }
   ],
   "source": [
    "import os\n",
    "from pathlib import Path\n",
    "from os.path import exists\n",
    "\n",
    "from snowflake_ai.apps import NotebookApp\n",
    "from snowflake_ai.connect import DataFrameFactory\n",
    "from snowflake_ai.snowpandas import SnowEDA, SnowSetup\n",
    "\n",
    "\n",
    "home = Path.home()\n",
    "config_path = os.path.join(\n",
    "    home, os.path.dirname(\".snowflake_ai/conf/\")\n",
    ")\n",
    "\n",
    "print(f\"home: {home}\")\n",
    "if exists(config_path):\n",
    "    print(f\"config path: {os.path.abspath(config_path)}\")\n",
    "\n",
    "\n",
    "app = NotebookApp(\"group_def.app1\")\n",
    "connect = app.get_default_snow_connect()\n",
    "\n",
    "tbl_nm = 'SNOWFLAKE_SAMPLE_DATA.TPCH_SF1.CUSTOMER'\n",
    "sdf = DataFrameFactory.create_df(tbl_nm, connect)\n",
    "\n",
    "sdf.show(5)"
   ]
  }
 ],
 "metadata": {
  "kernelspec": {
   "display_name": "py38",
   "language": "python",
   "name": "python3"
  },
  "language_info": {
   "codemirror_mode": {
    "name": "ipython",
    "version": 3
   },
   "file_extension": ".py",
   "mimetype": "text/x-python",
   "name": "python",
   "nbconvert_exporter": "python",
   "pygments_lexer": "ipython3",
   "version": "3.8.16"
  },
  "orig_nbformat": 4,
  "vscode": {
   "interpreter": {
    "hash": "5326b8a2aff878b35f8af093f743027e95d6ce3e70a29e72e301c44c276e3fe8"
   }
  }
 },
 "nbformat": 4,
 "nbformat_minor": 2
}
