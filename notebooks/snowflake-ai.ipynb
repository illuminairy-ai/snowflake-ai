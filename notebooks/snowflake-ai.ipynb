{
 "cells": [
  {
   "cell_type": "code",
   "execution_count": 1,
   "metadata": {},
   "outputs": [
    {
     "name": "stdout",
     "output_type": "stream",
     "text": [
      "home: /home/liuto\n",
      "config path: /home/liuto/snowflake_ai/conf\n"
     ]
    }
   ],
   "source": [
    "import os\n",
    "from pathlib import Path\n",
    "from os.path import exists\n",
    "from snowflake_ai.common import SnowConnect\n",
    "from snowflake_ai.common import DataFrameFactory\n",
    "\n",
    "\n",
    "\n",
    "home = Path.home()\n",
    "config_path = os.path.join(\n",
    "    home, os.path.dirname(\"./snowflake_ai/conf/\")\n",
    ")\n",
    "\n",
    "print(f\"home: {home}\")\n",
    "if exists(config_path):\n",
    "    print(f\"config path: {os.path.abspath(config_path)}\")\n",
    "\n",
    "connect: SnowConnect = SnowConnect()\n",
    "\n",
    "tbl_nm = 'SNOWFLAKE_SAMPLE_DATA.TPCH_SF1.CUSTOMER'\n",
    "sdf = DataFrameFactory.create_df(tbl_nm, connect)\n",
    "\n",
    "sdf.show()"
   ]
  }
 ],
 "metadata": {
  "kernelspec": {
   "display_name": "py38",
   "language": "python",
   "name": "python3"
  },
  "language_info": {
   "codemirror_mode": {
    "name": "ipython",
    "version": 3
   },
   "file_extension": ".py",
   "mimetype": "text/x-python",
   "name": "python",
   "nbconvert_exporter": "python",
   "pygments_lexer": "ipython3",
   "version": "3.8.15"
  },
  "orig_nbformat": 4,
  "vscode": {
   "interpreter": {
    "hash": "5326b8a2aff878b35f8af093f743027e95d6ce3e70a29e72e301c44c276e3fe8"
   }
  }
 },
 "nbformat": 4,
 "nbformat_minor": 2
}
